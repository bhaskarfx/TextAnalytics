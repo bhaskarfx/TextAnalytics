{
  "nbformat": 4,
  "nbformat_minor": 0,
  "metadata": {
    "colab": {
      "name": "Untitled2.ipynb",
      "provenance": [],
      "authorship_tag": "ABX9TyMP2PQ73YnFmTLzdpc5TaMp",
      "include_colab_link": true
    },
    "kernelspec": {
      "name": "python3",
      "display_name": "Python 3"
    }
  },
  "cells": [
    {
      "cell_type": "markdown",
      "metadata": {
        "id": "view-in-github",
        "colab_type": "text"
      },
      "source": [
        "<a href=\"https://colab.research.google.com/github/bhaskarfx/TextAnalytics/blob/master/PoS_Tagging.ipynb\" target=\"_parent\"><img src=\"https://colab.research.google.com/assets/colab-badge.svg\" alt=\"Open In Colab\"/></a>"
      ]
    },
    {
      "cell_type": "code",
      "metadata": {
        "id": "zEIjzcwqkoSe",
        "colab_type": "code",
        "colab": {}
      },
      "source": [
        "import nltk"
      ],
      "execution_count": 0,
      "outputs": []
    },
    {
      "cell_type": "code",
      "metadata": {
        "id": "nW7bvDiOlQpr",
        "colab_type": "code",
        "colab": {
          "base_uri": "https://localhost:8080/",
          "height": 68
        },
        "outputId": "75e9b2cd-b441-4816-b1bf-8a16504a28fa"
      },
      "source": [
        "#nltk.download('punkt')"
      ],
      "execution_count": 4,
      "outputs": [
        {
          "output_type": "stream",
          "text": [
            "[nltk_data] Downloading package punkt to /root/nltk_data...\n",
            "[nltk_data]   Unzipping tokenizers/punkt.zip.\n"
          ],
          "name": "stdout"
        },
        {
          "output_type": "execute_result",
          "data": {
            "text/plain": [
              "True"
            ]
          },
          "metadata": {
            "tags": []
          },
          "execution_count": 4
        }
      ]
    },
    {
      "cell_type": "code",
      "metadata": {
        "id": "BB42WXookvzF",
        "colab_type": "code",
        "colab": {}
      },
      "source": [
        "text = \"Napoleon Bonaparte was a great king. He had guns and solders to fight wars\""
      ],
      "execution_count": 0,
      "outputs": []
    },
    {
      "cell_type": "code",
      "metadata": {
        "id": "VJeTLJJHlG4a",
        "colab_type": "code",
        "colab": {
          "base_uri": "https://localhost:8080/",
          "height": 34
        },
        "outputId": "93aaf9cd-bef9-4817-e116-d0249edb89c2"
      },
      "source": [
        "tokens = nltk.word_tokenize(text)\n",
        "print(\"Tokens in the text: \",tokens)"
      ],
      "execution_count": 12,
      "outputs": [
        {
          "output_type": "stream",
          "text": [
            "Tokens in the text:  ['Napoleon', 'Bonaparte', 'was', 'a', 'great', 'king', '.', 'He', 'had', 'guns', 'and', 'solders', 'to', 'fight', 'wars']\n"
          ],
          "name": "stdout"
        }
      ]
    },
    {
      "cell_type": "code",
      "metadata": {
        "id": "VTa0IL9mleEU",
        "colab_type": "code",
        "colab": {
          "base_uri": "https://localhost:8080/",
          "height": 85
        },
        "outputId": "671cf732-e637-472d-b561-f06c8929dcdc"
      },
      "source": [
        "#nltk.download('averaged_perceptron_tagger')"
      ],
      "execution_count": 7,
      "outputs": [
        {
          "output_type": "stream",
          "text": [
            "[nltk_data] Downloading package averaged_perceptron_tagger to\n",
            "[nltk_data]     /root/nltk_data...\n",
            "[nltk_data]   Unzipping taggers/averaged_perceptron_tagger.zip.\n"
          ],
          "name": "stdout"
        },
        {
          "output_type": "execute_result",
          "data": {
            "text/plain": [
              "True"
            ]
          },
          "metadata": {
            "tags": []
          },
          "execution_count": 7
        }
      ]
    },
    {
      "cell_type": "code",
      "metadata": {
        "id": "M2QSa6QplG7K",
        "colab_type": "code",
        "colab": {
          "base_uri": "https://localhost:8080/",
          "height": 54
        },
        "outputId": "38869fa9-7bcf-40e5-eff8-b1146333ef27"
      },
      "source": [
        "pos_tag = nltk.pos_tag(tokens)\n",
        "print(\"Parts of Speech with tags: \",pos_tag)"
      ],
      "execution_count": 11,
      "outputs": [
        {
          "output_type": "stream",
          "text": [
            "Parts of Speech with tags:  [('Napoleon', 'NNP'), ('Bonaparte', 'NNP'), ('was', 'VBD'), ('a', 'DT'), ('great', 'JJ'), ('king', 'NN'), ('.', '.'), ('He', 'PRP'), ('had', 'VBD'), ('guns', 'NNS'), ('and', 'CC'), ('solders', 'NNS'), ('to', 'TO'), ('fight', 'VB'), ('wars', 'NNS')]\n"
          ],
          "name": "stdout"
        }
      ]
    },
    {
      "cell_type": "code",
      "metadata": {
        "id": "7FR3k9cWlkUc",
        "colab_type": "code",
        "colab": {
          "base_uri": "https://localhost:8080/",
          "height": 255
        },
        "outputId": "be7a65bf-4c20-4ca1-c362-d3d87e7d3174"
      },
      "source": [
        "grammar = \"NP: {<DT>?<JJ>*<NN>}\"\n",
        "cp  =nltk.RegexpParser(grammar)\n",
        "result = cp.parse(pos_tag)\n",
        "print(result)"
      ],
      "execution_count": 24,
      "outputs": [
        {
          "output_type": "stream",
          "text": [
            "(S\n",
            "  Napoleon/NNP\n",
            "  Bonaparte/NNP\n",
            "  was/VBD\n",
            "  (NP a/DT great/JJ king/NN)\n",
            "  ./.\n",
            "  He/PRP\n",
            "  had/VBD\n",
            "  guns/NNS\n",
            "  and/CC\n",
            "  solders/NNS\n",
            "  to/TO\n",
            "  fight/VB\n",
            "  wars/NNS)\n"
          ],
          "name": "stdout"
        }
      ]
    }
  ]
}